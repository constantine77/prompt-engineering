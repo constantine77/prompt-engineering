{
 "cells": [
  {
   "cell_type": "markdown",
   "id": "c686aeb1",
   "metadata": {},
   "source": [
    "# SUMIZE - Summary Generator"
   ]
  },
  {
   "cell_type": "code",
   "execution_count": 1,
   "id": "beaa279a",
   "metadata": {},
   "outputs": [
    {
     "name": "stdout",
     "output_type": "stream",
     "text": [
      "Requirement already satisfied: pip in /Users/veles/Applications/dev/myenv/lib/python3.11/site-packages (23.1.1)\n",
      "Requirement already satisfied: pytube in /Users/veles/Applications/dev/myenv/lib/python3.11/site-packages (12.1.3)\n"
     ]
    }
   ],
   "source": [
    "!pip install --upgrade pip\n",
    "!pip install pytube"
   ]
  },
  {
   "cell_type": "code",
   "execution_count": 2,
   "id": "b60548ed",
   "metadata": {},
   "outputs": [],
   "source": [
    "# downloading the YouTube audio stream\n",
    "def youtube_audio_downloader(link):\n",
    "    from pytube import YouTube\n",
    "    import os\n",
    "    import re\n",
    "    if 'youtube.com' not in link:\n",
    "        print('Invalid YouTube link!')\n",
    "        return False\n",
    "    \n",
    "    yt = YouTube(link)\n",
    "    \n",
    "    audio = yt.streams.filter(only_audio=True).first()\n",
    "    print('Downloading the audio stream ...', end='')\n",
    "    output_file = audio.download()\n",
    "    if os.path.exists(output_file):\n",
    "        print('Done!')\n",
    "    else:\n",
    "        print('Error downloading the file!')\n",
    "        return False\n",
    "    \n",
    "    basename = os.path.basename(output_file)\n",
    "    name, extension = os.path.splitext(basename)\n",
    "    audio_file = f'{name}.mp3'\n",
    "    audio_file = re.sub('\\s+', '-', audio_file)\n",
    "    os.rename(basename, audio_file)\n",
    "    return audio_file\n",
    "\n",
    "\n",
    "\n",
    "# transcribing the audio_file or translating it to English \n",
    "def transcribe(audio_file, not_english=False):\n",
    "    import os\n",
    "    import openai\n",
    "    \n",
    "    if not os.path.exists(audio_file):\n",
    "        print('Audio file does not exist!')\n",
    "        return False\n",
    "    \n",
    "    if not_english:  \n",
    "        # translation to english\n",
    "        with open(audio_file, 'rb') as f:\n",
    "            print('Starting translating to English ...', end='')\n",
    "            transcript = openai.Audio.translate('whisper-1', f)\n",
    "            print('Done!')\n",
    "        \n",
    "    else: # transcription\n",
    "        with open(audio_file, 'rb') as f:\n",
    "            print('Starting transcribing ... ', end='')\n",
    "            transcript = openai.Audio.transcribe('whisper-1', f)\n",
    "            print('Done!')\n",
    "        \n",
    "    name, extension = os.path.splitext(audio_file)\n",
    "    transcript_filename = f'transcript-{name}.txt'\n",
    "    with open(transcript_filename, 'w') as f:\n",
    "        f.write(transcript['text'])\n",
    "            \n",
    "    return transcript_filename\n",
    "\n",
    "\n",
    "# summarizing the transcript using GPT\n",
    "def summarize(transcript_filename):\n",
    "    import openai \n",
    "    import os\n",
    "    \n",
    "    if not os.path.exists(transcript_filename):\n",
    "        print('The transcript file does not exist!')\n",
    "        return False\n",
    "    \n",
    "    with open(transcript_filename) as f:\n",
    "        transcript = f.read()\n",
    "        \n",
    "    system_prompt = 'I want you to act as a Life Coach.'\n",
    "    prompt = f'''Create a summary of the following text.\n",
    "    Text: {transcript}\n",
    "    \n",
    "    Add a title to the summary.\n",
    "    Your summary should be informative and factual, covering the most important aspects of the topic.\n",
    "    Start your summary with an INTRODUCTION PARAGRAPH that gives an overview of the topic FOLLOWED\n",
    "    by BULLET POINTS if possible AND end the summary with a CONCLUSION PHRASE.'''\n",
    "    \n",
    "    print('Starting summarizing ... ', end='')\n",
    "    response = openai.ChatCompletion.create(\n",
    "        model='gpt-3.5-turbo',\n",
    "        messages=[\n",
    "            {'role': 'system', 'content': system_prompt},\n",
    "            {'role': 'user', 'content': prompt}\n",
    "        ],\n",
    "        max_tokens=2048,\n",
    "        temperature=1\n",
    "    \n",
    "    )\n",
    "    \n",
    "    print('Done')\n",
    "    r = response['choices'][0]['message']['content']\n",
    "    return r"
   ]
  },
  {
   "cell_type": "code",
   "execution_count": 3,
   "id": "6939aaeb",
   "metadata": {},
   "outputs": [
    {
     "name": "stdout",
     "output_type": "stream",
     "text": [
      "Enter the link of the YouTube video you want to summarize: https://www.youtube.com/watch?v=psBmREmFeD4&list=PLrAXtmErZgOeciFP3CBCIEElOJeitOr41&index=46\n",
      "Downloading the audio stream ...Done!\n",
      "Starting translating to English ...Done!\n",
      "Starting summarizing ... Done\n",
      "\n",
      "\n",
      "Title: Life Coach Advice for Young People \n",
      "\n",
      "Introduction: In this text, the author shares valuable advice for young people, particularly those in high school and college, about their career, life in general, and how to live a fulfilling life. The author encourages young people to embrace their privilege and take advantage of opportunities available to them. The author also emphasizes the importance of education, mastery, and not limiting oneself based on color, gender, or orientation. \n",
      "\n",
      "Key points:\n",
      "- The world is full of opportunities, and young people should not see themselves as victims regardless of their color, gender, or orientation.\n",
      "- Education is crucial, and young people should focus on acquiring the necessary skills to navigate the 21st century effectively.\n",
      "- The world is rapidly changing, and young people need to keep moving and stay up-to-date to succeed in their careers and personal lives.\n",
      "- It is essential not to limit oneself based on their background or heritage, and one should strive to wear their history lightly and embrace all that life has to offer.\n",
      "\n",
      "Conclusion: As a life coach, the author provides valuable insight into how young people can live fulfilling and successful lives in today's world. The tips shared by the author, such as embracing opportunities, investing in education, and not limiting oneself, can help young people achieve their full potential and make a positive impact on society.\n"
     ]
    }
   ],
   "source": [
    "import openai\n",
    "import os\n",
    "# loading the OpenAI API key\n",
    "#os.environ['OPENAI_API_KEY'] = ''\n",
    "#openai.api_key = os.getenv('OPENAI_API_KEY')\n",
    "\n",
    "\n",
    "openai.api_key = \"xyz\"\n",
    "\n",
    "# link example: https://www.youtube.com/watch?v=psBmREmFeD4&list=PLrAXtmErZgOeciFP3CBCIEElOJeitOr41&index=46\n",
    "link = input('Enter the link of the YouTube video you want to summarize: ')\n",
    "\n",
    "\n",
    "mp3_file = youtube_audio_downloader(link)\n",
    "\n",
    "# the second argument (not_english=True) is necessary if the source file is not in English and needs to be \n",
    "# translated as well\n",
    "transcript_file = transcribe(mp3_file, not_english=True) \n",
    "summary = summarize(transcript_file)\n",
    "print('\\n')\n",
    "print(summary)"
   ]
  },
  {
   "cell_type": "code",
   "execution_count": null,
   "id": "4c4e4824",
   "metadata": {},
   "outputs": [],
   "source": []
  }
 ],
 "metadata": {
  "kernelspec": {
   "display_name": "My Environment",
   "language": "python",
   "name": "myenv"
  },
  "language_info": {
   "codemirror_mode": {
    "name": "ipython",
    "version": 3
   },
   "file_extension": ".py",
   "mimetype": "text/x-python",
   "name": "python",
   "nbconvert_exporter": "python",
   "pygments_lexer": "ipython3",
   "version": "3.11.1"
  }
 },
 "nbformat": 4,
 "nbformat_minor": 5
}
